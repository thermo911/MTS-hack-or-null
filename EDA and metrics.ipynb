{
 "cells": [
  {
   "cell_type": "code",
   "execution_count": 1,
   "metadata": {},
   "outputs": [],
   "source": [
    "import numpy as np\n",
    "import pandas as pd\n",
    "import matplotlib.pyplot as plt"
   ]
  },
  {
   "cell_type": "code",
   "execution_count": 4,
   "metadata": {},
   "outputs": [
    {
     "name": "stdout",
     "output_type": "stream",
     "text": [
      "EDA and metrics.ipynb \u001B[34mmodel\u001B[m\u001B[m                 server.py\r\n",
      "README.md             mvnw                  \u001B[34msrc\u001B[m\u001B[m\r\n",
      "\u001B[34mdata\u001B[m\u001B[m                  mvnw.cmd\r\n",
      "\u001B[34mdataset\u001B[m\u001B[m               pom.xml\r\n"
     ]
    }
   ],
   "source": [
    "!ls"
   ]
  },
  {
   "cell_type": "code",
   "execution_count": 2,
   "metadata": {},
   "outputs": [],
   "source": [
    "raw = pd.read_csv('data/host.csv', names=['host'])"
   ]
  },
  {
   "cell_type": "code",
   "execution_count": 3,
   "metadata": {},
   "outputs": [
    {
     "data": {
      "text/plain": "                                      host\n0                             api.youla.io\n1                       favicon.yandex.net\n2            w-74721.fp.kaspersky-labs.com\n3                            questtime.net\n4       passport-authproxy.taxi.yandex.net\n...                                    ...\n999991                     m39.hefxosi.com\n999993                     m42.ytoxcrj.com\n999995                      m5.fupppzz.net\n999997                       m5.ehgeqxn.me\n999999                      m9.igoxzza.com\n\n[199944 rows x 1 columns]",
      "text/html": "<div>\n<style scoped>\n    .dataframe tbody tr th:only-of-type {\n        vertical-align: middle;\n    }\n\n    .dataframe tbody tr th {\n        vertical-align: top;\n    }\n\n    .dataframe thead th {\n        text-align: right;\n    }\n</style>\n<table border=\"1\" class=\"dataframe\">\n  <thead>\n    <tr style=\"text-align: right;\">\n      <th></th>\n      <th>host</th>\n    </tr>\n  </thead>\n  <tbody>\n    <tr>\n      <th>0</th>\n      <td>api.youla.io</td>\n    </tr>\n    <tr>\n      <th>1</th>\n      <td>favicon.yandex.net</td>\n    </tr>\n    <tr>\n      <th>2</th>\n      <td>w-74721.fp.kaspersky-labs.com</td>\n    </tr>\n    <tr>\n      <th>3</th>\n      <td>questtime.net</td>\n    </tr>\n    <tr>\n      <th>4</th>\n      <td>passport-authproxy.taxi.yandex.net</td>\n    </tr>\n    <tr>\n      <th>...</th>\n      <td>...</td>\n    </tr>\n    <tr>\n      <th>999991</th>\n      <td>m39.hefxosi.com</td>\n    </tr>\n    <tr>\n      <th>999993</th>\n      <td>m42.ytoxcrj.com</td>\n    </tr>\n    <tr>\n      <th>999995</th>\n      <td>m5.fupppzz.net</td>\n    </tr>\n    <tr>\n      <th>999997</th>\n      <td>m5.ehgeqxn.me</td>\n    </tr>\n    <tr>\n      <th>999999</th>\n      <td>m9.igoxzza.com</td>\n    </tr>\n  </tbody>\n</table>\n<p>199944 rows × 1 columns</p>\n</div>"
     },
     "execution_count": 3,
     "metadata": {},
     "output_type": "execute_result"
    }
   ],
   "source": [
    "raw.drop_duplicates()"
   ]
  },
  {
   "cell_type": "code",
   "execution_count": 4,
   "metadata": {},
   "outputs": [],
   "source": [
    "def df_process(df):\n",
    "    df['len'] = df['host'].map(lambda x: len(x))\n",
    "    df['dots'] = df['host'].map(lambda x: x.count('.'))\n",
    "    df['digits'] = df['host'].map(lambda x: sum([x.count(str(c)) for c in range(10)]))\n",
    "    df['dash'] = df['host'].map(lambda x: x.count('-'))    \n",
    "    return df"
   ]
  },
  {
   "cell_type": "code",
   "execution_count": 5,
   "metadata": {},
   "outputs": [],
   "source": [
    "raw = df_process(raw)"
   ]
  },
  {
   "cell_type": "code",
   "execution_count": 6,
   "metadata": {},
   "outputs": [
    {
     "data": {
      "text/plain": "                  len            dots          digits            dash\ncount  1000000.000000  1000000.000000  1000000.000000  1000000.000000\nmean        22.485400        2.297148        2.293751        0.712215\nstd         11.133069        1.093478        4.588589        1.218499\nmin          4.000000        1.000000        0.000000        0.000000\n25%         15.000000        2.000000        0.000000        0.000000\n50%         19.000000        2.000000        1.000000        0.000000\n75%         27.000000        3.000000        2.000000        1.000000\nmax         84.000000       32.000000       41.000000       11.000000",
      "text/html": "<div>\n<style scoped>\n    .dataframe tbody tr th:only-of-type {\n        vertical-align: middle;\n    }\n\n    .dataframe tbody tr th {\n        vertical-align: top;\n    }\n\n    .dataframe thead th {\n        text-align: right;\n    }\n</style>\n<table border=\"1\" class=\"dataframe\">\n  <thead>\n    <tr style=\"text-align: right;\">\n      <th></th>\n      <th>len</th>\n      <th>dots</th>\n      <th>digits</th>\n      <th>dash</th>\n    </tr>\n  </thead>\n  <tbody>\n    <tr>\n      <th>count</th>\n      <td>1000000.000000</td>\n      <td>1000000.000000</td>\n      <td>1000000.000000</td>\n      <td>1000000.000000</td>\n    </tr>\n    <tr>\n      <th>mean</th>\n      <td>22.485400</td>\n      <td>2.297148</td>\n      <td>2.293751</td>\n      <td>0.712215</td>\n    </tr>\n    <tr>\n      <th>std</th>\n      <td>11.133069</td>\n      <td>1.093478</td>\n      <td>4.588589</td>\n      <td>1.218499</td>\n    </tr>\n    <tr>\n      <th>min</th>\n      <td>4.000000</td>\n      <td>1.000000</td>\n      <td>0.000000</td>\n      <td>0.000000</td>\n    </tr>\n    <tr>\n      <th>25%</th>\n      <td>15.000000</td>\n      <td>2.000000</td>\n      <td>0.000000</td>\n      <td>0.000000</td>\n    </tr>\n    <tr>\n      <th>50%</th>\n      <td>19.000000</td>\n      <td>2.000000</td>\n      <td>1.000000</td>\n      <td>0.000000</td>\n    </tr>\n    <tr>\n      <th>75%</th>\n      <td>27.000000</td>\n      <td>3.000000</td>\n      <td>2.000000</td>\n      <td>1.000000</td>\n    </tr>\n    <tr>\n      <th>max</th>\n      <td>84.000000</td>\n      <td>32.000000</td>\n      <td>41.000000</td>\n      <td>11.000000</td>\n    </tr>\n  </tbody>\n</table>\n</div>"
     },
     "execution_count": 6,
     "metadata": {},
     "output_type": "execute_result"
    }
   ],
   "source": [
    "raw.describe()"
   ]
  },
  {
   "cell_type": "code",
   "execution_count": 7,
   "metadata": {},
   "outputs": [],
   "source": [
    "dataset = pd.read_csv('dataset/data.csv', index_col=0)"
   ]
  },
  {
   "cell_type": "code",
   "execution_count": 8,
   "metadata": {},
   "outputs": [],
   "source": [
    "dataset.index = range(len(dataset))"
   ]
  },
  {
   "cell_type": "code",
   "execution_count": 9,
   "metadata": {},
   "outputs": [
    {
     "data": {
      "text/plain": "                                                     host  y\n0                                               pcvrc.com  1\n1                                         m25.dlfynky.net  0\n2                                 coconutgrovekeywest.com  1\n3                                        lisacerasoli.com  1\n4                                               cal25.com  1\n...                                                   ... ..\n345657                                    sunmines.com.tw  1\n345658                                         doksan.com  1\n345659  9f398ace-e1c4-442a-9cb3-345e01db1c26.mitdmp.wh...  0\n345660                                    m40.cnoyucn.com  0\n345661                                    vinylengine.com  1\n\n[345662 rows x 2 columns]",
      "text/html": "<div>\n<style scoped>\n    .dataframe tbody tr th:only-of-type {\n        vertical-align: middle;\n    }\n\n    .dataframe tbody tr th {\n        vertical-align: top;\n    }\n\n    .dataframe thead th {\n        text-align: right;\n    }\n</style>\n<table border=\"1\" class=\"dataframe\">\n  <thead>\n    <tr style=\"text-align: right;\">\n      <th></th>\n      <th>host</th>\n      <th>y</th>\n    </tr>\n  </thead>\n  <tbody>\n    <tr>\n      <th>0</th>\n      <td>pcvrc.com</td>\n      <td>1</td>\n    </tr>\n    <tr>\n      <th>1</th>\n      <td>m25.dlfynky.net</td>\n      <td>0</td>\n    </tr>\n    <tr>\n      <th>2</th>\n      <td>coconutgrovekeywest.com</td>\n      <td>1</td>\n    </tr>\n    <tr>\n      <th>3</th>\n      <td>lisacerasoli.com</td>\n      <td>1</td>\n    </tr>\n    <tr>\n      <th>4</th>\n      <td>cal25.com</td>\n      <td>1</td>\n    </tr>\n    <tr>\n      <th>...</th>\n      <td>...</td>\n      <td>...</td>\n    </tr>\n    <tr>\n      <th>345657</th>\n      <td>sunmines.com.tw</td>\n      <td>1</td>\n    </tr>\n    <tr>\n      <th>345658</th>\n      <td>doksan.com</td>\n      <td>1</td>\n    </tr>\n    <tr>\n      <th>345659</th>\n      <td>9f398ace-e1c4-442a-9cb3-345e01db1c26.mitdmp.wh...</td>\n      <td>0</td>\n    </tr>\n    <tr>\n      <th>345660</th>\n      <td>m40.cnoyucn.com</td>\n      <td>0</td>\n    </tr>\n    <tr>\n      <th>345661</th>\n      <td>vinylengine.com</td>\n      <td>1</td>\n    </tr>\n  </tbody>\n</table>\n<p>345662 rows × 2 columns</p>\n</div>"
     },
     "execution_count": 9,
     "metadata": {},
     "output_type": "execute_result"
    }
   ],
   "source": [
    "dataset"
   ]
  },
  {
   "cell_type": "code",
   "execution_count": 10,
   "metadata": {},
   "outputs": [],
   "source": [
    "dataset = df_process(dataset)"
   ]
  },
  {
   "cell_type": "code",
   "execution_count": 11,
   "metadata": {},
   "outputs": [
    {
     "data": {
      "text/plain": "                   y            len           dots         digits  \\\ncount  345662.000000  345662.000000  345662.000000  345662.000000   \nmean        0.500000      22.523734       1.836505       3.376003   \nstd         0.500001      14.686289       1.522946       6.592448   \nmin         0.000000       2.000000       0.000000       0.000000   \n25%         0.000000      14.000000       1.000000       0.000000   \n50%         0.500000      17.000000       2.000000       0.000000   \n75%         1.000000      25.000000       2.000000       2.000000   \nmax         1.000000      84.000000      32.000000      40.000000   \n\n                dash  \ncount  345662.000000  \nmean        0.465281  \nstd         1.155138  \nmin         0.000000  \n25%         0.000000  \n50%         0.000000  \n75%         0.000000  \nmax        11.000000  ",
      "text/html": "<div>\n<style scoped>\n    .dataframe tbody tr th:only-of-type {\n        vertical-align: middle;\n    }\n\n    .dataframe tbody tr th {\n        vertical-align: top;\n    }\n\n    .dataframe thead th {\n        text-align: right;\n    }\n</style>\n<table border=\"1\" class=\"dataframe\">\n  <thead>\n    <tr style=\"text-align: right;\">\n      <th></th>\n      <th>y</th>\n      <th>len</th>\n      <th>dots</th>\n      <th>digits</th>\n      <th>dash</th>\n    </tr>\n  </thead>\n  <tbody>\n    <tr>\n      <th>count</th>\n      <td>345662.000000</td>\n      <td>345662.000000</td>\n      <td>345662.000000</td>\n      <td>345662.000000</td>\n      <td>345662.000000</td>\n    </tr>\n    <tr>\n      <th>mean</th>\n      <td>0.500000</td>\n      <td>22.523734</td>\n      <td>1.836505</td>\n      <td>3.376003</td>\n      <td>0.465281</td>\n    </tr>\n    <tr>\n      <th>std</th>\n      <td>0.500001</td>\n      <td>14.686289</td>\n      <td>1.522946</td>\n      <td>6.592448</td>\n      <td>1.155138</td>\n    </tr>\n    <tr>\n      <th>min</th>\n      <td>0.000000</td>\n      <td>2.000000</td>\n      <td>0.000000</td>\n      <td>0.000000</td>\n      <td>0.000000</td>\n    </tr>\n    <tr>\n      <th>25%</th>\n      <td>0.000000</td>\n      <td>14.000000</td>\n      <td>1.000000</td>\n      <td>0.000000</td>\n      <td>0.000000</td>\n    </tr>\n    <tr>\n      <th>50%</th>\n      <td>0.500000</td>\n      <td>17.000000</td>\n      <td>2.000000</td>\n      <td>0.000000</td>\n      <td>0.000000</td>\n    </tr>\n    <tr>\n      <th>75%</th>\n      <td>1.000000</td>\n      <td>25.000000</td>\n      <td>2.000000</td>\n      <td>2.000000</td>\n      <td>0.000000</td>\n    </tr>\n    <tr>\n      <th>max</th>\n      <td>1.000000</td>\n      <td>84.000000</td>\n      <td>32.000000</td>\n      <td>40.000000</td>\n      <td>11.000000</td>\n    </tr>\n  </tbody>\n</table>\n</div>"
     },
     "execution_count": 11,
     "metadata": {},
     "output_type": "execute_result"
    }
   ],
   "source": [
    "dataset.describe()"
   ]
  },
  {
   "cell_type": "code",
   "execution_count": 12,
   "metadata": {},
   "outputs": [],
   "source": [
    "user = dataset[dataset['y'] == 1]\n",
    "tech = dataset[dataset['y'] == 0]"
   ]
  },
  {
   "cell_type": "code",
   "execution_count": 13,
   "metadata": {},
   "outputs": [
    {
     "data": {
      "text/plain": "              y            len           dots         digits           dash\ncount  172831.0  172831.000000  172831.000000  172831.000000  172831.000000\nmean        1.0      16.245130       1.234674       0.066730       0.109870\nstd         0.0       5.089179       0.494328       0.404235       0.371298\nmin         1.0       2.000000       0.000000       0.000000       0.000000\n25%         1.0      13.000000       1.000000       0.000000       0.000000\n50%         1.0      16.000000       1.000000       0.000000       0.000000\n75%         1.0      19.000000       1.000000       0.000000       0.000000\nmax         1.0      67.000000       5.000000      13.000000      10.000000",
      "text/html": "<div>\n<style scoped>\n    .dataframe tbody tr th:only-of-type {\n        vertical-align: middle;\n    }\n\n    .dataframe tbody tr th {\n        vertical-align: top;\n    }\n\n    .dataframe thead th {\n        text-align: right;\n    }\n</style>\n<table border=\"1\" class=\"dataframe\">\n  <thead>\n    <tr style=\"text-align: right;\">\n      <th></th>\n      <th>y</th>\n      <th>len</th>\n      <th>dots</th>\n      <th>digits</th>\n      <th>dash</th>\n    </tr>\n  </thead>\n  <tbody>\n    <tr>\n      <th>count</th>\n      <td>172831.0</td>\n      <td>172831.000000</td>\n      <td>172831.000000</td>\n      <td>172831.000000</td>\n      <td>172831.000000</td>\n    </tr>\n    <tr>\n      <th>mean</th>\n      <td>1.0</td>\n      <td>16.245130</td>\n      <td>1.234674</td>\n      <td>0.066730</td>\n      <td>0.109870</td>\n    </tr>\n    <tr>\n      <th>std</th>\n      <td>0.0</td>\n      <td>5.089179</td>\n      <td>0.494328</td>\n      <td>0.404235</td>\n      <td>0.371298</td>\n    </tr>\n    <tr>\n      <th>min</th>\n      <td>1.0</td>\n      <td>2.000000</td>\n      <td>0.000000</td>\n      <td>0.000000</td>\n      <td>0.000000</td>\n    </tr>\n    <tr>\n      <th>25%</th>\n      <td>1.0</td>\n      <td>13.000000</td>\n      <td>1.000000</td>\n      <td>0.000000</td>\n      <td>0.000000</td>\n    </tr>\n    <tr>\n      <th>50%</th>\n      <td>1.0</td>\n      <td>16.000000</td>\n      <td>1.000000</td>\n      <td>0.000000</td>\n      <td>0.000000</td>\n    </tr>\n    <tr>\n      <th>75%</th>\n      <td>1.0</td>\n      <td>19.000000</td>\n      <td>1.000000</td>\n      <td>0.000000</td>\n      <td>0.000000</td>\n    </tr>\n    <tr>\n      <th>max</th>\n      <td>1.0</td>\n      <td>67.000000</td>\n      <td>5.000000</td>\n      <td>13.000000</td>\n      <td>10.000000</td>\n    </tr>\n  </tbody>\n</table>\n</div>"
     },
     "execution_count": 13,
     "metadata": {},
     "output_type": "execute_result"
    }
   ],
   "source": [
    "user.describe()"
   ]
  },
  {
   "cell_type": "code",
   "execution_count": 14,
   "metadata": {},
   "outputs": [
    {
     "data": {
      "text/plain": "              y            len           dots         digits           dash\ncount  172831.0  172831.000000  172831.000000  172831.000000  172831.000000\nmean        0.0      28.802339       2.438336       6.685276       0.820692\nstd         0.0      18.073004       1.915719       8.053253       1.509371\nmin         0.0       4.000000       1.000000       0.000000       0.000000\n25%         0.0      15.000000       2.000000       1.000000       0.000000\n50%         0.0      22.000000       2.000000       2.000000       0.000000\n75%         0.0      38.000000       3.000000      12.000000       1.000000\nmax         0.0      84.000000      32.000000      40.000000      11.000000",
      "text/html": "<div>\n<style scoped>\n    .dataframe tbody tr th:only-of-type {\n        vertical-align: middle;\n    }\n\n    .dataframe tbody tr th {\n        vertical-align: top;\n    }\n\n    .dataframe thead th {\n        text-align: right;\n    }\n</style>\n<table border=\"1\" class=\"dataframe\">\n  <thead>\n    <tr style=\"text-align: right;\">\n      <th></th>\n      <th>y</th>\n      <th>len</th>\n      <th>dots</th>\n      <th>digits</th>\n      <th>dash</th>\n    </tr>\n  </thead>\n  <tbody>\n    <tr>\n      <th>count</th>\n      <td>172831.0</td>\n      <td>172831.000000</td>\n      <td>172831.000000</td>\n      <td>172831.000000</td>\n      <td>172831.000000</td>\n    </tr>\n    <tr>\n      <th>mean</th>\n      <td>0.0</td>\n      <td>28.802339</td>\n      <td>2.438336</td>\n      <td>6.685276</td>\n      <td>0.820692</td>\n    </tr>\n    <tr>\n      <th>std</th>\n      <td>0.0</td>\n      <td>18.073004</td>\n      <td>1.915719</td>\n      <td>8.053253</td>\n      <td>1.509371</td>\n    </tr>\n    <tr>\n      <th>min</th>\n      <td>0.0</td>\n      <td>4.000000</td>\n      <td>1.000000</td>\n      <td>0.000000</td>\n      <td>0.000000</td>\n    </tr>\n    <tr>\n      <th>25%</th>\n      <td>0.0</td>\n      <td>15.000000</td>\n      <td>2.000000</td>\n      <td>1.000000</td>\n      <td>0.000000</td>\n    </tr>\n    <tr>\n      <th>50%</th>\n      <td>0.0</td>\n      <td>22.000000</td>\n      <td>2.000000</td>\n      <td>2.000000</td>\n      <td>0.000000</td>\n    </tr>\n    <tr>\n      <th>75%</th>\n      <td>0.0</td>\n      <td>38.000000</td>\n      <td>3.000000</td>\n      <td>12.000000</td>\n      <td>1.000000</td>\n    </tr>\n    <tr>\n      <th>max</th>\n      <td>0.0</td>\n      <td>84.000000</td>\n      <td>32.000000</td>\n      <td>40.000000</td>\n      <td>11.000000</td>\n    </tr>\n  </tbody>\n</table>\n</div>"
     },
     "execution_count": 14,
     "metadata": {},
     "output_type": "execute_result"
    }
   ],
   "source": [
    "tech.describe()"
   ]
  },
  {
   "cell_type": "code",
   "execution_count": 15,
   "metadata": {},
   "outputs": [
    {
     "name": "stdout",
     "output_type": "stream",
     "text": [
      "соотношение классов user/tech: 1.0\n"
     ]
    }
   ],
   "source": [
    "print(f'соотношение классов user/tech: {len(user) / len(tech)}')"
   ]
  },
  {
   "cell_type": "code",
   "execution_count": 16,
   "metadata": {},
   "outputs": [],
   "source": [
    "from sklearn.utils import shuffle\n",
    "dataset = shuffle(dataset)"
   ]
  },
  {
   "cell_type": "code",
   "execution_count": 17,
   "metadata": {},
   "outputs": [],
   "source": [
    "from sklearn.model_selection import cross_val_score, KFold\n",
    "from sklearn.model_selection import ShuffleSplit\n",
    "from sklearn.metrics import accuracy_score, roc_auc_score, f1_score"
   ]
  },
  {
   "cell_type": "code",
   "execution_count": 18,
   "metadata": {},
   "outputs": [],
   "source": [
    "kf = KFold(n_splits=5, shuffle=True)"
   ]
  },
  {
   "cell_type": "code",
   "execution_count": 19,
   "metadata": {},
   "outputs": [],
   "source": [
    "from model.Model import Model"
   ]
  },
  {
   "cell_type": "code",
   "execution_count": 20,
   "metadata": {},
   "outputs": [],
   "source": [
    "X = dataset['host'].values\n",
    "y = dataset['y'].values"
   ]
  },
  {
   "cell_type": "code",
   "execution_count": 21,
   "metadata": {
    "scrolled": true
   },
   "outputs": [
    {
     "name": "stderr",
     "output_type": "stream",
     "text": [
      "5it [04:50, 58.11s/it]\n"
     ]
    }
   ],
   "source": [
    "metrics = {\n",
    "    'accuracy': [],\n",
    "    'roc_auc': [],\n",
    "    'f1_score': [],\n",
    "}\n",
    "\n",
    "from tqdm import tqdm\n",
    "for train_index, test_index in tqdm(kf.split(X)):\n",
    "    X_train, X_test = X[train_index], X[test_index]\n",
    "    y_train, y_test = y[train_index], y[test_index]\n",
    "    \n",
    "    model = Model(depth=8)\n",
    "    model.fit(X_train, y_train, verbose=False)\n",
    "    y_pred = model.predict(X_test)\n",
    "    metrics['accuracy'].append(accuracy_score(y_test, y_pred))\n",
    "    metrics['roc_auc'].append(roc_auc_score(y_test, y_pred))\n",
    "    metrics['f1_score'].append(f1_score(y_test, y_pred))"
   ]
  },
  {
   "cell_type": "code",
   "execution_count": 22,
   "metadata": {},
   "outputs": [
    {
     "name": "stdout",
     "output_type": "stream",
     "text": [
      "accuracy: 0.9505\n",
      "roc_auc: 0.9505\n",
      "f1_score: 0.951\n"
     ]
    }
   ],
   "source": [
    "for k, v in metrics.items():\n",
    "    print(f'{k}: {np.round(np.mean(v), 4)}')"
   ]
  },
  {
   "cell_type": "code",
   "execution_count": 23,
   "metadata": {},
   "outputs": [
    {
     "name": "stdout",
     "output_type": "stream",
     "text": [
      "50.0%\n"
     ]
    }
   ],
   "source": [
    "print(str(round(100 * len(dataset[dataset['y'] == 1]) / len(dataset), 2)) + '%')"
   ]
  },
  {
   "cell_type": "code",
   "execution_count": 24,
   "metadata": {},
   "outputs": [],
   "source": [
    "from model.Model import Model"
   ]
  },
  {
   "cell_type": "code",
   "execution_count": 25,
   "metadata": {},
   "outputs": [],
   "source": [
    "model = Model()"
   ]
  },
  {
   "cell_type": "code",
   "execution_count": 26,
   "metadata": {},
   "outputs": [],
   "source": [
    "model.fit(dataset['host'], y)"
   ]
  },
  {
   "cell_type": "code",
   "execution_count": 28,
   "metadata": {},
   "outputs": [
    {
     "data": {
      "text/plain": "{'learn': {'Logloss': 0.05685225405639392}}"
     },
     "execution_count": 28,
     "metadata": {},
     "output_type": "execute_result"
    }
   ],
   "source": [
    "model.model.best_score_"
   ]
  },
  {
   "cell_type": "code",
   "execution_count": 29,
   "metadata": {},
   "outputs": [],
   "source": [
    "features = model.model.get_feature_importance()"
   ]
  },
  {
   "cell_type": "code",
   "execution_count": 30,
   "metadata": {},
   "outputs": [],
   "source": [
    "the_most_important = features.argsort()[-3:][::-1]"
   ]
  },
  {
   "cell_type": "code",
   "execution_count": 33,
   "metadata": {},
   "outputs": [
    {
     "data": {
      "text/plain": "array(['.', 'o', 'c'], dtype='<U1')"
     },
     "execution_count": 33,
     "metadata": {},
     "output_type": "execute_result"
    }
   ],
   "source": [
    "np.array(model.vocab)[the_most_important]"
   ]
  },
  {
   "cell_type": "code",
   "execution_count": 32,
   "metadata": {
    "collapsed": true
   },
   "outputs": [
    {
     "data": {
      "text/plain": "              y            len           dots         digits           dash\ncount  172831.0  172831.000000  172831.000000  172831.000000  172831.000000\nmean        1.0      16.245130       1.234674       0.066730       0.109870\nstd         0.0       5.089179       0.494328       0.404235       0.371298\nmin         1.0       2.000000       0.000000       0.000000       0.000000\n25%         1.0      13.000000       1.000000       0.000000       0.000000\n50%         1.0      16.000000       1.000000       0.000000       0.000000\n75%         1.0      19.000000       1.000000       0.000000       0.000000\nmax         1.0      67.000000       5.000000      13.000000      10.000000",
      "text/html": "<div>\n<style scoped>\n    .dataframe tbody tr th:only-of-type {\n        vertical-align: middle;\n    }\n\n    .dataframe tbody tr th {\n        vertical-align: top;\n    }\n\n    .dataframe thead th {\n        text-align: right;\n    }\n</style>\n<table border=\"1\" class=\"dataframe\">\n  <thead>\n    <tr style=\"text-align: right;\">\n      <th></th>\n      <th>y</th>\n      <th>len</th>\n      <th>dots</th>\n      <th>digits</th>\n      <th>dash</th>\n    </tr>\n  </thead>\n  <tbody>\n    <tr>\n      <th>count</th>\n      <td>172831.0</td>\n      <td>172831.000000</td>\n      <td>172831.000000</td>\n      <td>172831.000000</td>\n      <td>172831.000000</td>\n    </tr>\n    <tr>\n      <th>mean</th>\n      <td>1.0</td>\n      <td>16.245130</td>\n      <td>1.234674</td>\n      <td>0.066730</td>\n      <td>0.109870</td>\n    </tr>\n    <tr>\n      <th>std</th>\n      <td>0.0</td>\n      <td>5.089179</td>\n      <td>0.494328</td>\n      <td>0.404235</td>\n      <td>0.371298</td>\n    </tr>\n    <tr>\n      <th>min</th>\n      <td>1.0</td>\n      <td>2.000000</td>\n      <td>0.000000</td>\n      <td>0.000000</td>\n      <td>0.000000</td>\n    </tr>\n    <tr>\n      <th>25%</th>\n      <td>1.0</td>\n      <td>13.000000</td>\n      <td>1.000000</td>\n      <td>0.000000</td>\n      <td>0.000000</td>\n    </tr>\n    <tr>\n      <th>50%</th>\n      <td>1.0</td>\n      <td>16.000000</td>\n      <td>1.000000</td>\n      <td>0.000000</td>\n      <td>0.000000</td>\n    </tr>\n    <tr>\n      <th>75%</th>\n      <td>1.0</td>\n      <td>19.000000</td>\n      <td>1.000000</td>\n      <td>0.000000</td>\n      <td>0.000000</td>\n    </tr>\n    <tr>\n      <th>max</th>\n      <td>1.0</td>\n      <td>67.000000</td>\n      <td>5.000000</td>\n      <td>13.000000</td>\n      <td>10.000000</td>\n    </tr>\n  </tbody>\n</table>\n</div>"
     },
     "execution_count": 32,
     "metadata": {},
     "output_type": "execute_result"
    }
   ],
   "source": [
    "user.describe()"
   ]
  },
  {
   "cell_type": "code",
   "execution_count": 34,
   "metadata": {
    "pycharm": {
     "name": "#%%\n"
    }
   },
   "outputs": [],
   "source": [
    "model.model.save_model('best_model',\n",
    "                       format=\"cbm\",\n",
    "                       export_parameters=None,\n",
    "                       pool=None)"
   ]
  }
 ],
 "metadata": {
  "kernelspec": {
   "display_name": "Python 3",
   "language": "python",
   "name": "python3"
  },
  "language_info": {
   "codemirror_mode": {
    "name": "ipython",
    "version": 3
   },
   "file_extension": ".py",
   "mimetype": "text/x-python",
   "name": "python",
   "nbconvert_exporter": "python",
   "pygments_lexer": "ipython3",
   "version": "3.9.6"
  }
 },
 "nbformat": 4,
 "nbformat_minor": 4
}